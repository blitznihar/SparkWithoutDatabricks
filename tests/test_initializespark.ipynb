{
 "cells": [
  {
   "cell_type": "code",
   "execution_count": null,
   "metadata": {},
   "outputs": [],
   "source": [
    "# tests/test_initializeSpark.ipynb\n",
    "\n",
    "import nbformat\n",
    "from nbconvert.preprocessors import ExecutePreprocessor\n",
    "\n",
    "\n",
    "def test_initializeSpark():\n",
    "    with open(\"initializeSpark.ipynb\") as f:\n",
    "        nb = nbformat.read(f, as_version=4)\n",
    "\n",
    "    ep = ExecutePreprocessor(timeout=600, kernel_name=\"python3\")\n",
    "    ep.preprocess(nb, {\"metadata\": {\"path\": \"./\"}})\n",
    "\n",
    "    # Add assertions based on the expected output of the notebook\n",
    "    # For example, if the notebook initializes a Spark session, you can check its contents\n",
    "    # Assuming the last cell of the notebook outputs a confirmation message\n",
    "    cell_output = nb.cells[-1].outputs[0][\"text\"]\n",
    "    assert \"Spark session initialized\" in cell_output"
   ]
  }
 ],
 "metadata": {
  "language_info": {
   "name": "python"
  }
 },
 "nbformat": 4,
 "nbformat_minor": 2
}
