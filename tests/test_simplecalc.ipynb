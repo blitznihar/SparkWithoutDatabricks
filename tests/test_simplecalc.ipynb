{
 "cells": [
  {
   "cell_type": "code",
   "execution_count": null,
   "metadata": {
    "vscode": {
     "languageId": "plaintext"
    }
   },
   "outputs": [],
   "source": [
    "import nbformat\n",
    "from nbconvert.preprocessors import ExecutePreprocessor\n",
    "\n",
    "def test_simplecalc():\n",
    "    with open(\"simplecalc.ipynb\") as f:\n",
    "        nb = nbformat.read(f, as_version=4)\n",
    "    \n",
    "    ep = ExecutePreprocessor(timeout=600, kernel_name='python3')\n",
    "    ep.preprocess(nb, {'metadata': {'path': './'}})\n",
    "\n",
    "    # Check the output of the cell\n",
    "    cell_output = nb.cells[0].outputs[0]['text']\n",
    "    assert cell_output.strip() == '3'"
   ]
  }
 ],
 "metadata": {
  "language_info": {
   "name": "python"
  }
 },
 "nbformat": 4,
 "nbformat_minor": 2
}
