{
 "cells": [
  {
   "cell_type": "code",
   "execution_count": null,
   "metadata": {},
   "outputs": [],
   "source": [
    "# tests/test_installrequirements.ipynb\n",
    "\n",
    "import nbformat\n",
    "from nbconvert.preprocessors import ExecutePreprocessor\n",
    "\n",
    "def test_installrequirements():\n",
    "    with open(\"installrequirements.ipynb\") as f:\n",
    "        nb = nbformat.read(f, as_version=4)\n",
    "    \n",
    "    ep = ExecutePreprocessor(timeout=600, kernel_name='python3')\n",
    "    ep.preprocess(nb, {'metadata': {'path': './'}})\n",
    "\n",
    "    # Add assertions based on the expected output of the notebook\n",
    "    # For example, you can check if the required packages are installed\n",
    "    # Assuming the last cell of the notebook outputs a confirmation message\n",
    "    cell_output = nb.cells[-1].outputs[0]['text']\n",
    "    assert \"Successfully installed\" in cell_output"
   ]
  }
 ],
 "metadata": {
  "language_info": {
   "name": "python"
  }
 },
 "nbformat": 4,
 "nbformat_minor": 2
}
