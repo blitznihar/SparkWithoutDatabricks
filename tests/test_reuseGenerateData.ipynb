{
 "cells": [
  {
   "cell_type": "code",
   "execution_count": 24,
   "metadata": {},
   "outputs": [],
   "source": [
    "import nbformat\n",
    "from nbconvert.preprocessors import ExecutePreprocessor\n",
    "import pandas as pd\n",
    "from io import StringIO\n",
    "\n",
    "\n",
    "def test_reuseGenerateData():\n",
    "    with open(\"reuseGenerateData.ipynb\") as f:\n",
    "        nb = nbformat.read(f, as_version=4)\n",
    "\n",
    "    ep = ExecutePreprocessor(timeout=600, kernel_name=\"python3\")\n",
    "    ep.preprocess(nb, {\"metadata\": {\"path\": \"./\"}})\n",
    "\n",
    "    # Add assertions based on the expected output of the notebook\n",
    "    # For example, if the notebook generates a DataFrame, you can check its contents\n",
    "    # Assuming the last cell of the notebook outputs a DataFrame in CSV format\n",
    "    df_output = pd.read_csv(StringIO(cell_output))\n",
    "\n",
    "    # Example assertion: Check if a specific value is in the DataFrame\n",
    "    assert df_output[\"column_name\"].iloc[0] == \"expected_value\"\n",
    "    cell_output = nb.cells[-1].outputs[0][\"text\"]\n",
    "    assert \"expected_value\" in cell_output"
   ]
  },
  {
   "cell_type": "code",
   "execution_count": 29,
   "metadata": {},
   "outputs": [
    {
     "name": "stdout",
     "output_type": "stream",
     "text": [
      "\u001b[1m============================= test session starts ==============================\u001b[0m\n",
      "platform darwin -- Python 3.13.0, pytest-8.3.4, pluggy-1.5.0 -- /Volumes/D/WORKSPACE/PYTHON/notebooktest/.venv/bin/python\n",
      "cachedir: .pytest_cache\n",
      "rootdir: /Volumes/D/WORKSPACE/PYTHON/notebooktest/tests\n",
      "plugins: cov-6.0.0, nbmake-1.5.4, pytest_notebook-0.10.0, anyio-4.7.0\n",
      "\u001b[1mcollecting ... \u001b[0mcollected 0 items\n",
      "\n",
      "\u001b[33m============================ \u001b[33mno tests ran\u001b[0m\u001b[33m in 0.01s\u001b[0m\u001b[33m =============================\u001b[0m\n"
     ]
    },
    {
     "data": {
      "text/plain": [
       "<ExitCode.NO_TESTS_COLLECTED: 5>"
      ]
     },
     "execution_count": 29,
     "metadata": {},
     "output_type": "execute_result"
    }
   ],
   "source": [
    "import os\n",
    "import pytest\n",
    "import nbformat\n",
    "from nbconvert.preprocessors import ExecutePreprocessor\n",
    "import pandas as pd\n",
    "from io import StringIO\n",
    "from testbook import testbook\n",
    "\n",
    "# from reuseGenerateData import HealthData\n",
    "\n",
    "@testbook('../reuseGenerateData.ipynb', execute=True)\n",
    "def test_reuseGenerateData(tb):\n",
    "        HealthData = tb.get(\"HealthData\")\n",
    "    #with open(\"reuseGenerateData.ipynb\") as f:\n",
    "        nb = nbformat.read(f, as_version=4)\n",
    "        environment = \"test\"\n",
    "        outputdir = \"/tests/data/\"\n",
    "        filename = f\"{outputdir}/health_data_{environment}.parquet\"\n",
    "\n",
    "        if os.path.exists(filename):\n",
    "            os.remove(filename)\n",
    "\n",
    "        print(f\"Running notebook with environment {environment}\")\n",
    "\n",
    "        healthData = HealthData(environment, outputdir)  # type: ignore\n",
    "        healthData.generate_data()\n",
    "        assert os.path.exists(filename), f\"{filename} has not been created\"\n",
    "\n",
    "\n",
    "\n",
    "# Run the test\n",
    "pytest.main([\"-v\"])"
   ]
  },
  {
   "cell_type": "code",
   "execution_count": 22,
   "metadata": {},
   "outputs": [
    {
     "name": "stdout",
     "output_type": "stream",
     "text": [
      "\u001b[1m============================= test session starts ==============================\u001b[0m\n",
      "platform darwin -- Python 3.13.0, pytest-8.3.4, pluggy-1.5.0 -- /Volumes/D/WORKSPACE/PYTHON/notebooktest/.venv/bin/python\n",
      "cachedir: .pytest_cache\n",
      "rootdir: /Volumes/D/WORKSPACE/PYTHON/notebooktest/tests\n",
      "plugins: cov-6.0.0, nbmake-1.5.4\n",
      "\u001b[1mcollecting ... \u001b[0mcollected 0 items\n",
      "\n",
      "\u001b[33m============================ \u001b[33mno tests ran\u001b[0m\u001b[33m in 0.00s\u001b[0m\u001b[33m =============================\u001b[0m\n"
     ]
    },
    {
     "data": {
      "text/plain": [
       "<ExitCode.NO_TESTS_COLLECTED: 5>"
      ]
     },
     "execution_count": 22,
     "metadata": {},
     "output_type": "execute_result"
    }
   ],
   "source": [
    "def test_simple():\n",
    "    assert 1 + 1 == 2\n",
    "    assert \"hello\".upper() == \"HELLO\"\n",
    "    assert len([1, 2, 3]) == 3\n",
    "\n",
    "\n",
    "# Run the test\n",
    "pytest.main([\"-v\"])"
   ]
  }
 ],
 "metadata": {
  "kernelspec": {
   "display_name": ".venv",
   "language": "python",
   "name": "python3"
  },
  "language_info": {
   "codemirror_mode": {
    "name": "ipython",
    "version": 3
   },
   "file_extension": ".py",
   "mimetype": "text/x-python",
   "name": "python",
   "nbconvert_exporter": "python",
   "pygments_lexer": "ipython3",
   "version": "3.13.0"
  }
 },
 "nbformat": 4,
 "nbformat_minor": 2
}
