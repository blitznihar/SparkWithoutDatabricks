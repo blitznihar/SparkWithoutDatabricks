{
 "cells": [
  {
   "cell_type": "markdown",
   "metadata": {},
   "source": [
    "## Health Data analysis"
   ]
  },
  {
   "cell_type": "markdown",
   "metadata": {},
   "source": [
    "Data analysis is crucial for businesses and organizations to make informed decisions from raw data. Here are the main types:\n",
    "\n",
    "1\\. Descriptive Analysis\n",
    "------------------------\n",
    "\n",
    "*   **What it does:** Summarizes historical data to show what has happened. Uses techniques like mean, median, mode, standard deviation, and range.\n",
    "\n",
    "2\\. Diagnostic Analysis\n",
    "-----------------------\n",
    "\n",
    "*   **What it does:** Explores why something happened by drilling down into data to identify patterns, correlations, and anomalies.\n",
    "\n",
    "3\\. Predictive Analysis\n",
    "-----------------------\n",
    "\n",
    "*   **What it does:** Uses historical data and statistical techniques to predict future outcomes.\n",
    "\n",
    "4\\. Prescriptive Analysis\n",
    "-------------------------\n",
    "\n",
    "*   **What it does:** Recommends actions to take by using optimization techniques to identify the best course of action.\n",
    "\n",
    "5\\. Exploratory Analysis\n",
    "------------------------\n",
    "\n",
    "*   **What it does:** Discovers patterns and relationships in data, often used in early stages to gain understanding and generate hypotheses.\n",
    "\n",
    "6\\. Inferential Analysis\n",
    "------------------------\n",
    "\n",
    "*   **What it does:** Uses statistical methods to draw conclusions about a population based on a sample of data.\n",
    "\n",
    "7\\. Causal Analysis\n",
    "-------------------\n",
    "\n",
    "*   **What it does:** Identifies cause-and-effect relationships between variables.\n",
    "\n",
    "8\\. Mechanistic Analysis\n",
    "------------------------\n",
    "\n",
    "*   **What it does:** Focuses on understanding the underlying mechanisms that drive a phenomenon."
   ]
  },
  {
   "cell_type": "markdown",
   "metadata": {},
   "source": [
    "### Setup Environment"
   ]
  },
  {
   "cell_type": "code",
   "execution_count": null,
   "metadata": {},
   "outputs": [],
   "source": [
    "%run initializespark.ipynb"
   ]
  },
  {
   "cell_type": "markdown",
   "metadata": {},
   "source": [
    "### Loading Data"
   ]
  },
  {
   "cell_type": "code",
   "execution_count": null,
   "metadata": {},
   "outputs": [],
   "source": [
    "# Load the data into a dataframe\n",
    "health_df = spark.read.parquet(\n",
    "    \"testdata/health_data_dev.parquet\", header=True, inferSchema=True\n",
    ")\n",
    "\n",
    "# Show the first few rows of the dataframe\n",
    "health_df.show()"
   ]
  },
  {
   "cell_type": "markdown",
   "metadata": {},
   "source": [
    "### 1\\. Descriptive Analysis\n",
    "------------------------\n",
    "Summarizes historical data to show what has happened. Uses techniques like mean, median, mode, standard deviation, and range."
   ]
  },
  {
   "cell_type": "code",
   "execution_count": null,
   "metadata": {},
   "outputs": [],
   "source": [
    "# Perform descriptive analysis\n",
    "health_df.describe().show()"
   ]
  },
  {
   "cell_type": "markdown",
   "metadata": {},
   "source": [
    "2\\. Diagnostic Analysis\n",
    "-----------------------\n",
    "\n",
    "*   **What it does:** Explores why something happened by drilling down into data to identify patterns, correlations, and anomalies."
   ]
  },
  {
   "cell_type": "code",
   "execution_count": null,
   "metadata": {},
   "outputs": [],
   "source": [
    "from pyspark.sql.functions import col, corr\n",
    "\n",
    "# Import necessary libraries\n",
    "\n",
    "# Example: Find correlation between 'age' and 'BloodPressure'\n",
    "age_bp_corr = health_df.select(corr(\"Age\", \"BloodPressure\")).collect()[0][0]\n",
    "print(f\"Correlation between age and blood pressure: {age_bp_corr}\")\n",
    "\n",
    "# Identify anomalies using standard deviation\n",
    "mean_bp = health_df.select(\"BloodPressure\").groupBy().mean().collect()[0][0]\n",
    "stddev_bp = (\n",
    "    health_df.select(\"BloodPressure\")\n",
    "    .groupBy()\n",
    "    .agg({\"BloodPressure\": \"stddev\"})\n",
    "    .collect()[0][0]\n",
    ")\n",
    "\n",
    "# Define a threshold for anomalies (e.g., 3 standard deviations from the mean)\n",
    "threshold = 3 * stddev_bp\n",
    "\n",
    "# Filter out anomalies\n",
    "anomalies = health_df.filter(\n",
    "    (col(\"BloodPressure\") > mean_bp + threshold)\n",
    "    | (col(\"BloodPressure\") < mean_bp - threshold)\n",
    ")\n",
    "print(\"Anomalies in blood pressure:\")\n",
    "anomalies.show()"
   ]
  },
  {
   "cell_type": "code",
   "execution_count": null,
   "metadata": {},
   "outputs": [],
   "source": [
    "from pyspark.ml.feature import VectorAssembler\n",
    "from pyspark.ml.regression import LinearRegression\n",
    "from pyspark.ml.evaluation import RegressionEvaluator\n",
    "\n",
    "# Select features and label\n",
    "feature_columns = [\"Age\", \"Height\", \"Weight\"]\n",
    "assembler = VectorAssembler(inputCols=feature_columns, outputCol=\"features\")\n",
    "data = assembler.transform(health_df)\n",
    "\n",
    "# Split the data into training and test sets\n",
    "train_data, test_data = data.randomSplit([0.8, 0.2], seed=42)\n",
    "\n",
    "# Initialize and train the linear regression model\n",
    "lr = LinearRegression(featuresCol=\"features\", labelCol=\"BloodPressure\")\n",
    "lr_model = lr.fit(train_data)\n",
    "\n",
    "# Make predictions on the test set\n",
    "predictions = lr_model.transform(test_data)\n",
    "\n",
    "# Evaluate the model\n",
    "evaluator = RegressionEvaluator(\n",
    "    labelCol=\"BloodPressure\", predictionCol=\"prediction\", metricName=\"rmse\"\n",
    ")\n",
    "rmse = evaluator.evaluate(predictions)\n",
    "print(f\"Root Mean Squared Error (RMSE) on test data: {rmse}\")\n",
    "\n",
    "# Show some predictions\n",
    "predictions.select(\"Age\", \"Height\", \"Weight\", \"BloodPressure\", \"prediction\").show()"
   ]
  },
  {
   "cell_type": "markdown",
   "metadata": {},
   "source": [
    "### 3\\. Predictive Analysis\n",
    "-----------------------\n",
    "\n",
    "##### *   **What it does:** Uses historical data and statistical techniques to predict future outcomes."
   ]
  },
  {
   "cell_type": "code",
   "execution_count": null,
   "metadata": {},
   "outputs": [],
   "source": [
    "def train_and_evaluate_linear_regression(\n",
    "    data, feature_columns, label_column, test_size=0.2, seed=42\n",
    "):\n",
    "    from pyspark.ml.feature import VectorAssembler\n",
    "    from pyspark.ml.regression import LinearRegression\n",
    "    from pyspark.ml.evaluation import RegressionEvaluator\n",
    "\n",
    "    # Assemble features\n",
    "    assembler = VectorAssembler(inputCols=feature_columns, outputCol=\"features\")\n",
    "    data = assembler.transform(data)\n",
    "\n",
    "    # Split the data into training and test sets\n",
    "    train_data, test_data = data.randomSplit([1 - test_size, test_size], seed=seed)\n",
    "\n",
    "    # Initialize and train the linear regression model\n",
    "    lr = LinearRegression(featuresCol=\"features\", labelCol=label_column)\n",
    "    lr_model = lr.fit(train_data)\n",
    "\n",
    "    # Make predictions on the test set\n",
    "    predictions = lr_model.transform(test_data)\n",
    "\n",
    "    # Evaluate the model\n",
    "    evaluator = RegressionEvaluator(\n",
    "        labelCol=label_column, predictionCol=\"prediction\", metricName=\"rmse\"\n",
    "    )\n",
    "    rmse = evaluator.evaluate(predictions)\n",
    "    print(f\"Root Mean Squared Error (RMSE) on test data: {rmse}\")\n",
    "\n",
    "    # Show some predictions\n",
    "    predictions.select(*feature_columns, label_column, \"prediction\").show()\n",
    "\n",
    "    return lr_model, rmse, predictions\n",
    "\n",
    "\n",
    "def predict_blood_pressure(lr_model, age, height, weight):\n",
    "    from pyspark.ml.linalg import Vectors\n",
    "    from pyspark.sql import Row\n",
    "\n",
    "    # Create a single row dataframe with the input features\n",
    "    input_data = spark.createDataFrame(\n",
    "        [\n",
    "            Row(\n",
    "                Age=age,\n",
    "                Height=height,\n",
    "                Weight=weight,\n",
    "                features=Vectors.dense([age, height, weight]),\n",
    "            )\n",
    "        ]\n",
    "    )\n",
    "\n",
    "    # Make prediction\n",
    "    prediction = lr_model.transform(input_data)\n",
    "    predicted_bp = prediction.select(\"prediction\").collect()[0][0]\n",
    "    return predicted_bp\n",
    "\n",
    "\n",
    "# Example usage\n",
    "lr_model, rmse, predictions = train_and_evaluate_linear_regression(\n",
    "    health_df, [\"Age\", \"Height\", \"Weight\"], \"BloodPressure\"\n",
    ")"
   ]
  },
  {
   "cell_type": "code",
   "execution_count": null,
   "metadata": {},
   "outputs": [],
   "source": [
    "predicted_bp = predict_blood_pressure(lr_model, 44, 70, 168)\n",
    "print(f\"Predicted Blood Pressure: {predicted_bp}\")"
   ]
  },
  {
   "cell_type": "markdown",
   "metadata": {},
   "source": [
    "## 4. Prescriptive Analysis\n",
    "##### * What it does: Recommends actions to take by using optimization techniques to identify the best course of action."
   ]
  },
  {
   "cell_type": "code",
   "execution_count": 49,
   "metadata": {},
   "outputs": [
    {
     "name": "stdout",
     "output_type": "stream",
     "text": [
      "Optimal Age: 20.0\n",
      "Optimal Height: 150.0\n",
      "Optimal Weight: 50.0\n"
     ]
    }
   ],
   "source": [
    "from scipy.optimize import linprog\n",
    "\n",
    "# Define the coefficients of the linear regression model\n",
    "coefficients = lr_model.coefficients.toArray()\n",
    "intercept = lr_model.intercept\n",
    "\n",
    "# Define the target blood pressure\n",
    "target_bp = 120\n",
    "\n",
    "# Define the objective function (minimize the difference between predicted and target blood pressure)\n",
    "c = [coefficients[0], coefficients[1], coefficients[2], -1]\n",
    "\n",
    "# Define the constraints (predicted blood pressure should be equal to target blood pressure)\n",
    "A_eq = [[coefficients[0], coefficients[1], coefficients[2], -1]]\n",
    "b_eq = [target_bp - intercept]\n",
    "\n",
    "# Define the bounds for age, height, and weight\n",
    "age_bounds = (20, 80)\n",
    "height_bounds = (150, 200)\n",
    "weight_bounds = (50, 150)\n",
    "slack_variable_bounds = (None, None)\n",
    "\n",
    "bounds = [age_bounds, height_bounds, weight_bounds, slack_variable_bounds]\n",
    "\n",
    "# Solve the linear programming problem\n",
    "result = linprog(c, A_eq=A_eq, b_eq=b_eq, bounds=bounds, method=\"highs\")\n",
    "\n",
    "# Extract the optimal values for age, height, and weight\n",
    "optimal_age, optimal_height, optimal_weight, _ = result.x\n",
    "\n",
    "print(f\"Optimal Age: {optimal_age}\")\n",
    "print(f\"Optimal Height: {optimal_height}\")\n",
    "print(f\"Optimal Weight: {optimal_weight}\")"
   ]
  }
 ],
 "metadata": {
  "kernelspec": {
   "display_name": ".venv",
   "language": "python",
   "name": "python3"
  },
  "language_info": {
   "codemirror_mode": {
    "name": "ipython",
    "version": 3
   },
   "file_extension": ".py",
   "mimetype": "text/x-python",
   "name": "python",
   "nbconvert_exporter": "python",
   "pygments_lexer": "ipython3",
   "version": "3.13.0"
  }
 },
 "nbformat": 4,
 "nbformat_minor": 2
}
