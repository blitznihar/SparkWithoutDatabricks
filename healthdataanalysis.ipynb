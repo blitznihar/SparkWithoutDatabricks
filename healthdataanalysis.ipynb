{
 "cells": [
  {
   "cell_type": "markdown",
   "metadata": {},
   "source": [
    "## Health Data analysis"
   ]
  },
  {
   "cell_type": "markdown",
   "metadata": {},
   "source": [
    "Data analysis is crucial for businesses and organizations to make informed decisions from raw data. Here are the main types:\n",
    "\n",
    "1\\. Descriptive Analysis\n",
    "------------------------\n",
    "\n",
    "*   **What it does:** Summarizes historical data to show what has happened. Uses techniques like mean, median, mode, standard deviation, and range.\n",
    "\n",
    "2\\. Diagnostic Analysis\n",
    "-----------------------\n",
    "\n",
    "*   **What it does:** Explores why something happened by drilling down into data to identify patterns, correlations, and anomalies.\n",
    "\n",
    "3\\. Predictive Analysis\n",
    "-----------------------\n",
    "\n",
    "*   **What it does:** Uses historical data and statistical techniques to predict future outcomes.\n",
    "\n",
    "4\\. Prescriptive Analysis\n",
    "-------------------------\n",
    "\n",
    "*   **What it does:** Recommends actions to take by using optimization techniques to identify the best course of action.\n",
    "\n",
    "5\\. Exploratory Analysis\n",
    "------------------------\n",
    "\n",
    "*   **What it does:** Discovers patterns and relationships in data, often used in early stages to gain understanding and generate hypotheses.\n",
    "\n",
    "6\\. Inferential Analysis\n",
    "------------------------\n",
    "\n",
    "*   **What it does:** Uses statistical methods to draw conclusions about a population based on a sample of data.\n",
    "\n",
    "7\\. Causal Analysis\n",
    "-------------------\n",
    "\n",
    "*   **What it does:** Identifies cause-and-effect relationships between variables.\n",
    "\n",
    "8\\. Mechanistic Analysis\n",
    "------------------------\n",
    "\n",
    "*   **What it does:** Focuses on understanding the underlying mechanisms that drive a phenomenon."
   ]
  },
  {
   "cell_type": "markdown",
   "metadata": {},
   "source": [
    "### Setup Environment"
   ]
  },
  {
   "cell_type": "code",
   "execution_count": 2,
   "metadata": {},
   "outputs": [
    {
     "data": {
      "application/javascript": "IPython.notebook.kernel.restart()",
      "text/plain": [
       "<IPython.core.display.Javascript object>"
      ]
     },
     "metadata": {},
     "output_type": "display_data"
    },
    {
     "name": "stderr",
     "output_type": "stream",
     "text": [
      "24/12/09 13:21:29 WARN Utils: Your hostname, Nihars-MacBook-Pro.local resolves to a loopback address: 127.0.0.1; using 192.168.51.226 instead (on interface en0)\n",
      "24/12/09 13:21:29 WARN Utils: Set SPARK_LOCAL_IP if you need to bind to another address\n",
      "Ivy Default Cache set to: /Users/niharmalali/.ivy2/cache\n",
      "The jars for the packages stored in: /Users/niharmalali/.ivy2/jars\n",
      "io.delta#delta-spark_2.12 added as a dependency\n",
      ":: resolving dependencies :: org.apache.spark#spark-submit-parent-2099af43-eaf9-4892-b387-a91b3df7a14e;1.0\n",
      "\tconfs: [default]\n"
     ]
    },
    {
     "name": "stdout",
     "output_type": "stream",
     "text": [
      ":: loading settings :: url = jar:file:/Volumes/D/WORKSPACE/PYTHON/notebooktest/.venv/lib/python3.13/site-packages/pyspark/jars/ivy-2.5.1.jar!/org/apache/ivy/core/settings/ivysettings.xml\n"
     ]
    },
    {
     "name": "stderr",
     "output_type": "stream",
     "text": [
      "\tfound io.delta#delta-spark_2.12;3.2.1 in central\n",
      "\tfound io.delta#delta-storage;3.2.1 in central\n",
      "\tfound org.antlr#antlr4-runtime;4.9.3 in central\n",
      ":: resolution report :: resolve 97ms :: artifacts dl 4ms\n",
      "\t:: modules in use:\n",
      "\tio.delta#delta-spark_2.12;3.2.1 from central in [default]\n",
      "\tio.delta#delta-storage;3.2.1 from central in [default]\n",
      "\torg.antlr#antlr4-runtime;4.9.3 from central in [default]\n",
      "\t---------------------------------------------------------------------\n",
      "\t|                  |            modules            ||   artifacts   |\n",
      "\t|       conf       | number| search|dwnlded|evicted|| number|dwnlded|\n",
      "\t---------------------------------------------------------------------\n",
      "\t|      default     |   3   |   0   |   0   |   0   ||   3   |   0   |\n",
      "\t---------------------------------------------------------------------\n",
      ":: retrieving :: org.apache.spark#spark-submit-parent-2099af43-eaf9-4892-b387-a91b3df7a14e\n",
      "\tconfs: [default]\n",
      "\t0 artifacts copied, 3 already retrieved (0kB/3ms)\n",
      "24/12/09 13:21:30 WARN NativeCodeLoader: Unable to load native-hadoop library for your platform... using builtin-java classes where applicable\n",
      "Setting default log level to \"WARN\".\n",
      "To adjust logging level use sc.setLogLevel(newLevel). For SparkR, use setLogLevel(newLevel).\n",
      "                                                                                \r"
     ]
    },
    {
     "name": "stdout",
     "output_type": "stream",
     "text": [
      "+-------------+\n",
      "|      Message|\n",
      "+-------------+\n",
      "|Testing Spark|\n",
      "+-------------+\n",
      "\n"
     ]
    }
   ],
   "source": [
    "%run initializespark.ipynb"
   ]
  },
  {
   "cell_type": "markdown",
   "metadata": {},
   "source": [
    "### Loading Data"
   ]
  },
  {
   "cell_type": "code",
   "execution_count": 3,
   "metadata": {},
   "outputs": [
    {
     "name": "stdout",
     "output_type": "stream",
     "text": [
      "+---------+---+------+------+-------------+\n",
      "|PatientID|Age|Height|Weight|BloodPressure|\n",
      "+---------+---+------+------+-------------+\n",
      "|        1| 64|   161|    95|          161|\n",
      "|        2| 67|   154|    61|          115|\n",
      "|        3| 73|   156|    66|          171|\n",
      "|        4| 20|   154|    74|          120|\n",
      "|        5| 23|   197|    79|          116|\n",
      "|        6| 79|   153|    71|          128|\n",
      "|        7| 23|   162|    96|          105|\n",
      "|        8| 59|   186|    75|          147|\n",
      "|        9| 29|   190|    66|          115|\n",
      "|       10| 39|   164|    69|          110|\n",
      "|       11| 41|   165|    83|          109|\n",
      "|       12| 70|   170|    90|          113|\n",
      "|       13| 56|   185|    82|           98|\n",
      "|       14| 43|   173|    86|           97|\n",
      "|       15| 26|   165|    56|          173|\n",
      "|       16| 44|   163|    71|          164|\n",
      "|       17| 44|   171|    81|           82|\n",
      "|       18| 32|   198|    63|          149|\n",
      "|       19| 78|   199|    57|           92|\n",
      "|       20| 21|   155|    74|          124|\n",
      "+---------+---+------+------+-------------+\n",
      "only showing top 20 rows\n",
      "\n"
     ]
    }
   ],
   "source": [
    "# Load the data into a dataframe\n",
    "health_df = spark.read.parquet(\n",
    "    \"testdata/health_data_dev.parquet\", header=True, inferSchema=True\n",
    ")\n",
    "\n",
    "# Show the first few rows of the dataframe\n",
    "health_df.show()"
   ]
  },
  {
   "cell_type": "markdown",
   "metadata": {},
   "source": [
    "### 1\\. Descriptive Analysis\n",
    "------------------------\n",
    "Summarizes historical data to show what has happened. Uses techniques like mean, median, mode, standard deviation, and range."
   ]
  },
  {
   "cell_type": "code",
   "execution_count": 4,
   "metadata": {},
   "outputs": [
    {
     "name": "stdout",
     "output_type": "stream",
     "text": [
      "+-------+------------------+------------------+-----------------+------------------+----------------+\n",
      "|summary|         PatientID|               Age|           Height|            Weight|   BloodPressure|\n",
      "+-------+------------------+------------------+-----------------+------------------+----------------+\n",
      "|  count|               100|               100|              100|               100|             100|\n",
      "|   mean|              50.5|             48.62|           173.29|             74.91|          131.52|\n",
      "| stddev|29.011491975882016|18.117896727219243|15.59804118756227|14.045449315157079|29.4952418693133|\n",
      "|    min|                 1|                20|              150|                50|              80|\n",
      "|    max|               100|                79|              199|                97|             179|\n",
      "+-------+------------------+------------------+-----------------+------------------+----------------+\n",
      "\n"
     ]
    }
   ],
   "source": [
    "# Perform descriptive analysis\n",
    "health_df.describe().show()"
   ]
  },
  {
   "cell_type": "markdown",
   "metadata": {},
   "source": [
    "2\\. Diagnostic Analysis\n",
    "-----------------------\n",
    "\n",
    "*   **What it does:** Explores why something happened by drilling down into data to identify patterns, correlations, and anomalies."
   ]
  },
  {
   "cell_type": "code",
   "execution_count": 9,
   "metadata": {},
   "outputs": [
    {
     "name": "stdout",
     "output_type": "stream",
     "text": [
      "Correlation between age and blood pressure: 0.1883905284146517\n",
      "Anomalies in blood pressure:\n",
      "+---------+---+------+------+-------------+\n",
      "|PatientID|Age|Height|Weight|BloodPressure|\n",
      "+---------+---+------+------+-------------+\n",
      "+---------+---+------+------+-------------+\n",
      "\n"
     ]
    }
   ],
   "source": [
    "from pyspark.sql.functions import col, corr\n",
    "\n",
    "# Import necessary libraries\n",
    "\n",
    "# Example: Find correlation between 'age' and 'BloodPressure'\n",
    "age_bp_corr = health_df.select(corr('Age', 'BloodPressure')).collect()[0][0]\n",
    "print(f\"Correlation between age and blood pressure: {age_bp_corr}\")\n",
    "\n",
    "# Identify anomalies using standard deviation\n",
    "mean_bp = health_df.select('BloodPressure').groupBy().mean().collect()[0][0]\n",
    "stddev_bp = health_df.select('BloodPressure').groupBy().agg({'BloodPressure': 'stddev'}).collect()[0][0]\n",
    "\n",
    "# Define a threshold for anomalies (e.g., 3 standard deviations from the mean)\n",
    "threshold = 3 * stddev_bp\n",
    "\n",
    "# Filter out anomalies\n",
    "anomalies = health_df.filter((col('BloodPressure') > mean_bp + threshold) | (col('BloodPressure') < mean_bp - threshold))\n",
    "print(\"Anomalies in blood pressure:\")\n",
    "anomalies.show()"
   ]
  }
 ],
 "metadata": {
  "kernelspec": {
   "display_name": ".venv",
   "language": "python",
   "name": "python3"
  },
  "language_info": {
   "codemirror_mode": {
    "name": "ipython",
    "version": 3
   },
   "file_extension": ".py",
   "mimetype": "text/x-python",
   "name": "python",
   "nbconvert_exporter": "python",
   "pygments_lexer": "ipython3",
   "version": "3.13.0"
  }
 },
 "nbformat": 4,
 "nbformat_minor": 2
}
