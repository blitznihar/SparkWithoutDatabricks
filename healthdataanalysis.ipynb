{
 "cells": [
  {
   "cell_type": "markdown",
   "metadata": {},
   "source": [
    "## Health Data analysis"
   ]
  },
  {
   "cell_type": "markdown",
   "metadata": {},
   "source": [
    "Data analysis is crucial for businesses and organizations to make informed decisions from raw data. Here are the main types:\n",
    "\n",
    "1\\. Descriptive Analysis\n",
    "------------------------\n",
    "\n",
    "*   **What it does:** Summarizes historical data to show what has happened. Uses techniques like mean, median, mode, standard deviation, and range.\n",
    "\n",
    "2\\. Diagnostic Analysis\n",
    "-----------------------\n",
    "\n",
    "*   **What it does:** Explores why something happened by drilling down into data to identify patterns, correlations, and anomalies.\n",
    "\n",
    "3\\. Predictive Analysis\n",
    "-----------------------\n",
    "\n",
    "*   **What it does:** Uses historical data and statistical techniques to predict future outcomes.\n",
    "\n",
    "4\\. Prescriptive Analysis\n",
    "-------------------------\n",
    "\n",
    "*   **What it does:** Recommends actions to take by using optimization techniques to identify the best course of action.\n",
    "\n",
    "5\\. Exploratory Analysis\n",
    "------------------------\n",
    "\n",
    "*   **What it does:** Discovers patterns and relationships in data, often used in early stages to gain understanding and generate hypotheses.\n",
    "\n",
    "6\\. Inferential Analysis\n",
    "------------------------\n",
    "\n",
    "*   **What it does:** Uses statistical methods to draw conclusions about a population based on a sample of data.\n",
    "\n",
    "7\\. Causal Analysis\n",
    "-------------------\n",
    "\n",
    "*   **What it does:** Identifies cause-and-effect relationships between variables.\n",
    "\n",
    "8\\. Mechanistic Analysis\n",
    "------------------------\n",
    "\n",
    "*   **What it does:** Focuses on understanding the underlying mechanisms that drive a phenomenon."
   ]
  },
  {
   "cell_type": "markdown",
   "metadata": {},
   "source": [
    "### Setup Environment"
   ]
  },
  {
   "cell_type": "code",
   "execution_count": null,
   "metadata": {},
   "outputs": [],
   "source": [
    "%run initializespark.ipynb"
   ]
  },
  {
   "cell_type": "markdown",
   "metadata": {},
   "source": [
    "### Loading Data"
   ]
  },
  {
   "cell_type": "code",
   "execution_count": null,
   "metadata": {},
   "outputs": [],
   "source": [
    "# Load the data into a dataframe\n",
    "health_df = spark.read.parquet(\n",
    "    \"testdata/health_data_dev.parquet\", header=True, inferSchema=True\n",
    ")\n",
    "\n",
    "# Show the first few rows of the dataframe\n",
    "health_df.show()"
   ]
  },
  {
   "cell_type": "markdown",
   "metadata": {},
   "source": [
    "### 1\\. Descriptive Analysis\n",
    "------------------------\n",
    "Summarizes historical data to show what has happened. Uses techniques like mean, median, mode, standard deviation, and range."
   ]
  },
  {
   "cell_type": "code",
   "execution_count": null,
   "metadata": {},
   "outputs": [],
   "source": [
    "# Perform descriptive analysis\n",
    "health_df.describe().show()"
   ]
  },
  {
   "cell_type": "markdown",
   "metadata": {},
   "source": [
    "2\\. Diagnostic Analysis\n",
    "-----------------------\n",
    "\n",
    "*   **What it does:** Explores why something happened by drilling down into data to identify patterns, correlations, and anomalies."
   ]
  },
  {
   "cell_type": "code",
   "execution_count": null,
   "metadata": {},
   "outputs": [],
   "source": [
    "from pyspark.sql.functions import col, corr\n",
    "\n",
    "# Import necessary libraries\n",
    "\n",
    "# Example: Find correlation between 'age' and 'BloodPressure'\n",
    "age_bp_corr = health_df.select(corr(\"Age\", \"BloodPressure\")).collect()[0][0]\n",
    "print(f\"Correlation between age and blood pressure: {age_bp_corr}\")\n",
    "\n",
    "# Identify anomalies using standard deviation\n",
    "mean_bp = health_df.select(\"BloodPressure\").groupBy().mean().collect()[0][0]\n",
    "stddev_bp = (\n",
    "    health_df.select(\"BloodPressure\")\n",
    "    .groupBy()\n",
    "    .agg({\"BloodPressure\": \"stddev\"})\n",
    "    .collect()[0][0]\n",
    ")\n",
    "\n",
    "# Define a threshold for anomalies (e.g., 3 standard deviations from the mean)\n",
    "threshold = 3 * stddev_bp\n",
    "\n",
    "# Filter out anomalies\n",
    "anomalies = health_df.filter(\n",
    "    (col(\"BloodPressure\") > mean_bp + threshold)\n",
    "    | (col(\"BloodPressure\") < mean_bp - threshold)\n",
    ")\n",
    "print(\"Anomalies in blood pressure:\")\n",
    "anomalies.show()"
   ]
  },
  {
   "cell_type": "code",
   "execution_count": null,
   "metadata": {},
   "outputs": [],
   "source": [
    "from pyspark.ml.feature import VectorAssembler\n",
    "from pyspark.ml.regression import LinearRegression\n",
    "from pyspark.ml.evaluation import RegressionEvaluator\n",
    "\n",
    "# Select features and label\n",
    "feature_columns = [\"Age\", \"Height\", \"Weight\"]\n",
    "assembler = VectorAssembler(inputCols=feature_columns, outputCol=\"features\")\n",
    "data = assembler.transform(health_df)\n",
    "\n",
    "# Split the data into training and test sets\n",
    "train_data, test_data = data.randomSplit([0.8, 0.2], seed=42)\n",
    "\n",
    "# Initialize and train the linear regression model\n",
    "lr = LinearRegression(featuresCol=\"features\", labelCol=\"BloodPressure\")\n",
    "lr_model = lr.fit(train_data)\n",
    "\n",
    "# Make predictions on the test set\n",
    "predictions = lr_model.transform(test_data)\n",
    "\n",
    "# Evaluate the model\n",
    "evaluator = RegressionEvaluator(\n",
    "    labelCol=\"BloodPressure\", predictionCol=\"prediction\", metricName=\"rmse\"\n",
    ")\n",
    "rmse = evaluator.evaluate(predictions)\n",
    "print(f\"Root Mean Squared Error (RMSE) on test data: {rmse}\")\n",
    "\n",
    "# Show some predictions\n",
    "predictions.select(\"Age\", \"Height\", \"Weight\", \"BloodPressure\", \"prediction\").show()"
   ]
  },
  {
   "cell_type": "markdown",
   "metadata": {},
   "source": [
    "### 3\\. Predictive Analysis\n",
    "-----------------------\n",
    "\n",
    "##### *   **What it does:** Uses historical data and statistical techniques to predict future outcomes."
   ]
  },
  {
   "cell_type": "code",
   "execution_count": null,
   "metadata": {},
   "outputs": [],
   "source": [
    "def train_and_evaluate_linear_regression(\n",
    "    data, feature_columns, label_column, test_size=0.2, seed=42\n",
    "):\n",
    "    from pyspark.ml.feature import VectorAssembler\n",
    "    from pyspark.ml.regression import LinearRegression\n",
    "    from pyspark.ml.evaluation import RegressionEvaluator\n",
    "\n",
    "    # Assemble features\n",
    "    assembler = VectorAssembler(inputCols=feature_columns, outputCol=\"features\")\n",
    "    data = assembler.transform(data)\n",
    "\n",
    "    # Split the data into training and test sets\n",
    "    train_data, test_data = data.randomSplit([1 - test_size, test_size], seed=seed)\n",
    "\n",
    "    # Initialize and train the linear regression model\n",
    "    lr = LinearRegression(featuresCol=\"features\", labelCol=label_column)\n",
    "    lr_model = lr.fit(train_data)\n",
    "\n",
    "    # Make predictions on the test set\n",
    "    predictions = lr_model.transform(test_data)\n",
    "\n",
    "    # Evaluate the model\n",
    "    evaluator = RegressionEvaluator(\n",
    "        labelCol=label_column, predictionCol=\"prediction\", metricName=\"rmse\"\n",
    "    )\n",
    "    rmse = evaluator.evaluate(predictions)\n",
    "    print(f\"Root Mean Squared Error (RMSE) on test data: {rmse}\")\n",
    "\n",
    "    # Show some predictions\n",
    "    predictions.select(*feature_columns, label_column, \"prediction\").show()\n",
    "\n",
    "    return lr_model, rmse, predictions\n",
    "\n",
    "\n",
    "def predict_blood_pressure(lr_model, age, height, weight):\n",
    "    from pyspark.ml.linalg import Vectors\n",
    "    from pyspark.sql import Row\n",
    "\n",
    "    # Create a single row dataframe with the input features\n",
    "    input_data = spark.createDataFrame(\n",
    "        [\n",
    "            Row(\n",
    "                Age=age,\n",
    "                Height=height,\n",
    "                Weight=weight,\n",
    "                features=Vectors.dense([age, height, weight]),\n",
    "            )\n",
    "        ]\n",
    "    )\n",
    "\n",
    "    # Make prediction\n",
    "    prediction = lr_model.transform(input_data)\n",
    "    predicted_bp = prediction.select(\"prediction\").collect()[0][0]\n",
    "    return predicted_bp\n",
    "\n",
    "\n",
    "# Example usage\n",
    "lr_model, rmse, predictions = train_and_evaluate_linear_regression(\n",
    "    health_df, [\"Age\", \"Height\", \"Weight\"], \"BloodPressure\"\n",
    ")"
   ]
  },
  {
   "cell_type": "code",
   "execution_count": null,
   "metadata": {},
   "outputs": [],
   "source": [
    "predicted_bp = predict_blood_pressure(lr_model, 44, 70, 168)\n",
    "print(f\"Predicted Blood Pressure: {predicted_bp}\")"
   ]
  },
  {
   "cell_type": "markdown",
   "metadata": {},
   "source": [
    "### 5\\. Exploratory Analysis\n",
    "------------------------\n",
    "\n",
    "##### *   **What it does:** Discovers patterns and relationships in data, often used in early stages to gain understanding and generate hypotheses."
   ]
  },
  {
   "cell_type": "code",
   "execution_count": null,
   "metadata": {},
   "outputs": [],
   "source": [
    "import seaborn as sns\n",
    "\n",
    "import matplotlib.pyplot as plt\n",
    "\n",
    "# Convert Spark DataFrame to Pandas DataFrame for easier plotting\n",
    "health_pd_df = health_df.toPandas()\n",
    "\n",
    "# Plotting pairplot to see relationships between variables\n",
    "sns.pairplot(health_pd_df[[\"Age\", \"Height\", \"Weight\", \"BloodPressure\"]])\n",
    "plt.show()\n",
    "\n",
    "# Plotting correlation heatmap\n",
    "plt.figure(figsize=(10, 8))\n",
    "correlation_matrix = health_pd_df[[\"Age\", \"Height\", \"Weight\", \"BloodPressure\"]].corr()\n",
    "sns.heatmap(correlation_matrix, annot=True, cmap=\"coolwarm\", linewidths=0.5)\n",
    "plt.title(\"Correlation Heatmap\")\n",
    "plt.show()\n",
    "\n",
    "# Plotting distribution of BloodPressure\n",
    "plt.figure(figsize=(10, 6))\n",
    "sns.histplot(health_pd_df[\"BloodPressure\"], kde=True)\n",
    "plt.title(\"Distribution of Blood Pressure\")\n",
    "plt.xlabel(\"Blood Pressure\")\n",
    "plt.ylabel(\"Frequency\")\n",
    "plt.show()\n",
    "\n",
    "# Boxplot to check for outliers in BloodPressure\n",
    "plt.figure(figsize=(10, 6))\n",
    "sns.boxplot(x=health_pd_df[\"BloodPressure\"])\n",
    "plt.title(\"Boxplot of Blood Pressure\")\n",
    "plt.xlabel(\"Blood Pressure\")\n",
    "plt.show()"
   ]
  },
  {
   "cell_type": "markdown",
   "metadata": {},
   "source": [
    "### 6\\. Inferential Analysis\n",
    "------------------------\n",
    "\n",
    "##### *   **What it does:** Uses statistical methods to draw conclusions about a population based on a sample of data."
   ]
  },
  {
   "cell_type": "code",
   "execution_count": null,
   "metadata": {},
   "outputs": [],
   "source": [
    "from scipy.stats import ttest_ind\n",
    "\n",
    "# Convert Spark DataFrame to Pandas DataFrame for easier analysis\n",
    "health_pd_df = health_df.select(\"Age\", \"Height\", \"Weight\", \"BloodPressure\").toPandas()\n",
    "\n",
    "# Separate the data into two groups based on Gender\n",
    "older_bp = health_pd_df[health_pd_df[\"Age\"] > 40][\"BloodPressure\"]\n",
    "younger_bp = health_pd_df[health_pd_df[\"Age\"] < 40][\"BloodPressure\"]\n",
    "\n",
    "## Perform t-test to compare the means of BloodPressure between males and females\n",
    "t_stat, p_value = ttest_ind(older_bp, younger_bp, nan_policy=\"omit\")\n",
    "\n",
    "print(f\"T-statistic: {t_stat}\")\n",
    "print(f\"P-value: {p_value}\")\n",
    "\n",
    "# Interpret the results\n",
    "alpha = 0.05\n",
    "if p_value < alpha:\n",
    "    print(\n",
    "        \"Reject the null hypothesis: There is a significant difference in Blood Pressure between older population and younger population.\"\n",
    "    )\n",
    "else:\n",
    "    print(\n",
    "        \"Fail to reject the null hypothesis: There is no significant difference in Blood Pressure between older population and younger population.\"\n",
    "    )"
   ]
  },
  {
   "cell_type": "markdown",
   "metadata": {},
   "source": [
    "### Causal Analysis\n",
    "-------------------\n",
    "\n",
    "##### *   **What it does:** Identifies cause-and-effect relationships between variables."
   ]
  },
  {
   "cell_type": "code",
   "execution_count": null,
   "metadata": {},
   "outputs": [],
   "source": [
    "from statsmodels.tsa.stattools import grangercausalitytests\n",
    "\n",
    "# Convert Spark DataFrame to Pandas DataFrame for easier analysis\n",
    "health_pd_df = health_df.select(\"Age\", \"Height\", \"Weight\", \"BloodPressure\").toPandas()\n",
    "\n",
    "# Perform Granger causality test to see if Age causes BloodPressure\n",
    "max_lag = 4\n",
    "test_result = grangercausalitytests(\n",
    "    health_pd_df[[\"BloodPressure\", \"Age\"]], max_lag, verbose=False\n",
    ")\n",
    "\n",
    "print(test_result)\n",
    "# Perform Granger causality test to see if Weight causes BloodPressure\n",
    "test_result = grangercausalitytests(\n",
    "    health_pd_df[[\"BloodPressure\", \"Weight\"]], max_lag, verbose=False\n",
    ")\n",
    "\n",
    "# Perform Granger causality test to see if Height causes BloodPressure\n",
    "test_result = grangercausalitytests(\n",
    "    health_pd_df[[\"BloodPressure\", \"Height\"]], max_lag, verbose=False\n",
    ")"
   ]
  },
  {
   "cell_type": "markdown",
   "metadata": {},
   "source": [
    "### Mechanistic Analysis"
   ]
  },
  {
   "cell_type": "code",
   "execution_count": null,
   "metadata": {},
   "outputs": [],
   "source": [
    "# Assemble features\n",
    "assembler = VectorAssembler(inputCols=feature_columns, outputCol=\"features\")\n",
    "data = assembler.transform(health_df)\n",
    "\n",
    "# Initialize and train the linear regression model\n",
    "lr = LinearRegression(featuresCol=\"features\", labelCol=\"BloodPressure\")\n",
    "lr_model = lr.fit(data)\n",
    "\n",
    "# Print the coefficients and intercept\n",
    "coefficients = lr_model.coefficients\n",
    "intercept = lr_model.intercept\n",
    "print(f\"Coefficients: {coefficients}\")\n",
    "print(f\"Intercept: {intercept}\")\n",
    "\n",
    "# Interpret the coefficients\n",
    "for feature, coef in zip(feature_columns, coefficients):\n",
    "    print(\n",
    "        f\"The coefficient for {feature} is {coef}, indicating the change in Blood Pressure for a unit change in {feature}.\"\n",
    "    )"
   ]
  }
 ],
 "metadata": {
  "kernelspec": {
   "display_name": ".venv",
   "language": "python",
   "name": "python3"
  },
  "language_info": {
   "codemirror_mode": {
    "name": "ipython",
    "version": 3
   },
   "file_extension": ".py",
   "mimetype": "text/x-python",
   "name": "python",
   "nbconvert_exporter": "python",
   "pygments_lexer": "ipython3",
   "version": "3.13.0"
  }
 },
 "nbformat": 4,
 "nbformat_minor": 2
}
