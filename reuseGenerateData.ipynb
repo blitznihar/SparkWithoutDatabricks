{
 "cells": [
  {
   "cell_type": "code",
   "execution_count": null,
   "metadata": {},
   "outputs": [],
   "source": [
    "import pandas as pd\n",
    "import numpy as np\n",
    "import os\n",
    "\n",
    "\n",
    "class HealthData:\n",
    "    def __init__(self, environment: str = \"dev\", outputdirectory: str = \"testdata\"):\n",
    "        self.environment = environment\n",
    "        self.outputdirectory = outputdirectory\n",
    "\n",
    "    def generate_data(self):\n",
    "        output_dir = self.outputdirectory\n",
    "        np.random.seed(0)\n",
    "        data = {\n",
    "            \"PatientID\": range(1, 101),\n",
    "            \"Age\": np.random.randint(20, 80, size=100),\n",
    "            \"Height\": np.random.randint(150, 200, size=100),\n",
    "            \"Weight\": np.random.randint(50, 100, size=100),\n",
    "            \"BloodPressure\": np.random.randint(80, 180, size=100),\n",
    "        }\n",
    "        if not os.path.exists(output_dir):\n",
    "            os.makedirs(output_dir)\n",
    "\n",
    "        # Create dataframe\n",
    "        health_df = pd.DataFrame(data)\n",
    "        health_df.to_parquet(f\"./{output_dir}/health_data_{self.environment}.parquet\")\n",
    "\n",
    "        "
   ]
  },
  {
   "cell_type": "code",
   "execution_count": null,
   "metadata": {},
   "outputs": [],
   "source": []
  },
  {
   "cell_type": "code",
   "execution_count": null,
   "metadata": {},
   "outputs": [],
   "source": []
  }
 ],
 "metadata": {
  "kernelspec": {
   "display_name": ".venv",
   "language": "python",
   "name": "python3"
  },
  "language_info": {
   "codemirror_mode": {
    "name": "ipython",
    "version": 3
   },
   "file_extension": ".py",
   "mimetype": "text/x-python",
   "name": "python",
   "nbconvert_exporter": "python",
   "pygments_lexer": "ipython3",
   "version": "3.13.0"
  }
 },
 "nbformat": 4,
 "nbformat_minor": 2
}
