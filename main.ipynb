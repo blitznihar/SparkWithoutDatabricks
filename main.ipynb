{
 "cells": [
  {
   "cell_type": "markdown",
   "metadata": {},
   "source": [
    "```markdown\n",
    "To run this Jupyter notebook, use Python 3.13 or later. The recommended environment is a virtual environment or a conda environment with the necessary packages installed, as specified int he requirements.txt file. Ensure that you have Jupyter Notebook installed to execute the cells interactively.\n",
    "```"
   ]
  },
  {
   "cell_type": "code",
   "execution_count": 31,
   "metadata": {},
   "outputs": [
    {
     "name": "stdout",
     "output_type": "stream",
     "text": [
      "Note: you may need to restart the kernel to use updated packages.\n"
     ]
    }
   ],
   "source": [
    "%run reuse.ipynb"
   ]
  },
  {
   "cell_type": "code",
   "execution_count": 32,
   "metadata": {},
   "outputs": [
    {
     "data": {
      "application/vnd.jupyter.widget-view+json": {
       "model_id": "63196a6b43e340a4bf28ad7f9060d7c4",
       "version_major": 2,
       "version_minor": 0
      },
      "text/plain": [
       "Dropdown(description='Environment:', options=('dev', 'uat', 'prod'), value='dev')"
      ]
     },
     "metadata": {},
     "output_type": "display_data"
    },
    {
     "data": {
      "application/vnd.jupyter.widget-view+json": {
       "model_id": "270b72a2a5b5463a8334e7cd28f10f6c",
       "version_major": 2,
       "version_minor": 0
      },
      "text/plain": [
       "Text(value='testdata')"
      ]
     },
     "metadata": {},
     "output_type": "display_data"
    }
   ],
   "source": [
    "import ipywidgets as widgets\n",
    "from IPython.display import display\n",
    "\n",
    "# Create a dropdown widget for environment selection\n",
    "env_dropdown = widgets.Dropdown(\n",
    "    options=['dev', 'uat', 'prod'],\n",
    "    value='dev',\n",
    "    description='Environment:',\n",
    ")\n",
    "\n",
    "outputdirectory = widgets.Text(\"testdata\")\n",
    "\n",
    "# Display the widget\n",
    "display(env_dropdown)\n",
    "display(outputdirectory)\n"
   ]
  },
  {
   "cell_type": "code",
   "execution_count": 33,
   "metadata": {},
   "outputs": [],
   "source": [
    "selected_env = env_dropdown.value\n",
    "outputdir = outputdirectory.value\n",
    "healthData = HealthData(selected_env,outputdir) # type: ignore\n",
    "healthData.generate_data()"
   ]
  },
  {
   "cell_type": "code",
   "execution_count": 34,
   "metadata": {},
   "outputs": [],
   "source": [
    "import pandas as pd\n",
    "\n",
    "healthdatadf = pd.read_parquet(f\"./{outputdir}/health_data_{selected_env}.parquet\")"
   ]
  },
  {
   "cell_type": "code",
   "execution_count": 35,
   "metadata": {},
   "outputs": [],
   "source": [
    "####!pyspark --packages io.delta:delta-core_2.11:0.4.0\n",
    "import pyspark\n",
    "from pyspark.sql import SparkSession\n",
    "from delta import *\n",
    "\n",
    "\n",
    "builder = (\n",
    "    SparkSession.builder.appName(\"DeltaTableCreation\")\n",
    "    .config(\"spark.sql.extensions\", \"io.delta.sql.DeltaSparkSessionExtension\")\n",
    "    .config(\"spark.sql.catalog.spark_catalog\", \"org.apache.spark.sql.delta.catalog.DeltaCatalog\")\n",
    ")\n",
    "\n",
    "spark = configure_spark_with_delta_pip(builder).getOrCreate()\n",
    "\n",
    "spark.conf.set(\"spark.sql.execution.arrow.pyspark.enabled\", \"true\")\n",
    "spark.conf.set(\"spark.sql.debug.maxToStringFields\", 1000)\n"
   ]
  },
  {
   "cell_type": "code",
   "execution_count": 36,
   "metadata": {},
   "outputs": [
    {
     "name": "stdout",
     "output_type": "stream",
     "text": [
      "    PatientID  Age  Height  Weight  BloodPressure\n",
      "0           1   64     161      95            161\n",
      "2           3   73     156      66            171\n",
      "5           6   79     153      71            128\n",
      "7           8   59     186      75            147\n",
      "14         15   26     165      56            173\n",
      "15         16   44     163      71            164\n",
      "17         18   32     198      63            149\n",
      "19         20   21     155      74            124\n",
      "20         21   58     191      65            146\n",
      "21         22   59     185      91            171\n",
      "22         23   43     150      68            165\n",
      "25         26   37     180      61            155\n",
      "29         30   28     184      51            150\n",
      "30         31   29     198      81            151\n",
      "32         33   71     153      74            172\n",
      "33         34   36     184      74            123\n",
      "34         35   71     192      53            163\n",
      "35         36   25     163      68            129\n",
      "36         37   35     198      97            121\n",
      "37         38   67     189      53            173\n",
      "38         39   20     171      92            126\n",
      "40         41   55     150      88            153\n",
      "41         42   44     160      85            169\n",
      "42         43   69     193      72            176\n",
      "43         44   71     173      55            171\n",
      "44         45   49     152      73            153\n",
      "46         47   39     185      82            161\n",
      "47         48   34     180      61            138\n",
      "49         50   52     168      70            166\n",
      "50         51   21     196      60            143\n",
      "53         54   52     167      78            174\n",
      "55         56   30     164      90            143\n",
      "56         57   72     191      52            147\n",
      "57         58   43     151      77            131\n",
      "59         60   31     160      75            136\n",
      "60         61   70     172      73            171\n",
      "61         62   75     193      96            173\n",
      "62         63   48     190      70            167\n",
      "65         66   20     166      85            152\n",
      "66         67   56     182      89            151\n",
      "67         68   73     150      59            167\n",
      "69         70   58     169      91            138\n",
      "70         71   60     196      73            161\n",
      "71         72   72     192      53            135\n",
      "72         73   37     190      96            144\n",
      "73         74   35     163      76            155\n",
      "74         75   24     180      94            172\n",
      "78         79   51     180      60            122\n",
      "80         81   21     193      95            166\n",
      "83         84   61     190      71            162\n",
      "84         85   77     158      83            148\n",
      "86         87   58     181      84            179\n",
      "87         88   75     158      84            163\n",
      "89         90   66     152      83            152\n",
      "90         91   38     153      55            141\n",
      "95         96   73     153      84            159\n",
      "96         97   32     195      55            159\n",
      "97         98   77     161      66            133\n",
      "    PatientID  Age  Height  Weight  BloodPressure\n",
      "0           1   64     161      95            161\n",
      "1           3   73     156      66            171\n",
      "2           6   79     153      71            128\n",
      "3           8   59     186      75            147\n",
      "4          15   26     165      56            173\n",
      "5          16   44     163      71            164\n",
      "6          18   32     198      63            149\n",
      "7          20   21     155      74            124\n",
      "8          21   58     191      65            146\n",
      "9          22   59     185      91            171\n",
      "10         23   43     150      68            165\n",
      "11         26   37     180      61            155\n",
      "12         30   28     184      51            150\n",
      "13         31   29     198      81            151\n",
      "14         33   71     153      74            172\n",
      "15         34   36     184      74            123\n",
      "16         35   71     192      53            163\n",
      "17         36   25     163      68            129\n",
      "18         37   35     198      97            121\n",
      "19         38   67     189      53            173\n",
      "20         39   20     171      92            126\n",
      "21         41   55     150      88            153\n",
      "22         42   44     160      85            169\n",
      "23         43   69     193      72            176\n",
      "24         44   71     173      55            171\n",
      "25         45   49     152      73            153\n",
      "26         47   39     185      82            161\n",
      "27         48   34     180      61            138\n",
      "28         50   52     168      70            166\n",
      "29         51   21     196      60            143\n",
      "30         54   52     167      78            174\n",
      "31         56   30     164      90            143\n",
      "32         57   72     191      52            147\n",
      "33         58   43     151      77            131\n",
      "34         60   31     160      75            136\n",
      "35         61   70     172      73            171\n",
      "36         62   75     193      96            173\n",
      "37         63   48     190      70            167\n",
      "38         66   20     166      85            152\n",
      "39         67   56     182      89            151\n",
      "40         68   73     150      59            167\n",
      "41         70   58     169      91            138\n",
      "42         71   60     196      73            161\n",
      "43         72   72     192      53            135\n",
      "44         73   37     190      96            144\n",
      "45         74   35     163      76            155\n",
      "46         75   24     180      94            172\n",
      "47         79   51     180      60            122\n",
      "48         81   21     193      95            166\n",
      "49         84   61     190      71            162\n",
      "50         85   77     158      83            148\n",
      "51         87   58     181      84            179\n",
      "52         88   75     158      84            163\n",
      "53         90   66     152      83            152\n",
      "54         91   38     153      55            141\n",
      "55         96   73     153      84            159\n",
      "56         97   32     195      55            159\n",
      "57         98   77     161      66            133\n"
     ]
    }
   ],
   "source": [
    "filtered_healthdatadf = healthdatadf[healthdatadf['BloodPressure'] > 120]\n",
    "print(filtered_healthdatadf)\n",
    "\n",
    "# Use Spark SQL to filter the data and convert to Pandas DataFrame\n",
    "spark.createDataFrame(healthdatadf).createOrReplaceTempView(\"sparkhealthdatadf\")\n",
    "filtered_healthdatadf_sql = spark.sql(\"SELECT * FROM sparkhealthdatadf WHERE BloodPressure > 120\").toPandas()\n",
    "print(filtered_healthdatadf_sql)"
   ]
  },
  {
   "cell_type": "code",
   "execution_count": 37,
   "metadata": {},
   "outputs": [
    {
     "name": "stderr",
     "output_type": "stream",
     "text": [
      "24/11/30 08:55:39 WARN MemoryManager: Total allocation exceeds 95.00% (1,020,054,720 bytes) of heap memory\n",
      "Scaling row group sizes to 95.00% for 8 writers\n",
      "24/11/30 08:55:39 WARN MemoryManager: Total allocation exceeds 95.00% (1,020,054,720 bytes) of heap memory\n",
      "Scaling row group sizes to 84.44% for 9 writers\n",
      "24/11/30 08:55:39 WARN MemoryManager: Total allocation exceeds 95.00% (1,020,054,720 bytes) of heap memory\n",
      "Scaling row group sizes to 76.00% for 10 writers\n",
      "24/11/30 08:55:39 WARN MemoryManager: Total allocation exceeds 95.00% (1,020,054,720 bytes) of heap memory\n",
      "Scaling row group sizes to 69.09% for 11 writers\n",
      "24/11/30 08:55:39 WARN MemoryManager: Total allocation exceeds 95.00% (1,020,054,720 bytes) of heap memory\n",
      "Scaling row group sizes to 63.33% for 12 writers\n",
      "24/11/30 08:55:39 WARN MemoryManager: Total allocation exceeds 95.00% (1,020,054,720 bytes) of heap memory\n",
      "Scaling row group sizes to 69.09% for 11 writers\n",
      "24/11/30 08:55:39 WARN MemoryManager: Total allocation exceeds 95.00% (1,020,054,720 bytes) of heap memory\n",
      "Scaling row group sizes to 76.00% for 10 writers\n",
      "24/11/30 08:55:39 WARN MemoryManager: Total allocation exceeds 95.00% (1,020,054,720 bytes) of heap memory\n",
      "Scaling row group sizes to 84.44% for 9 writers\n",
      "24/11/30 08:55:39 WARN MemoryManager: Total allocation exceeds 95.00% (1,020,054,720 bytes) of heap memory\n",
      "Scaling row group sizes to 95.00% for 8 writers\n",
      "                                                                                \r"
     ]
    }
   ],
   "source": [
    "# Create a Spark DataFrame from the healthdatadf DataFrame\n",
    "sparkdf = spark.createDataFrame(healthdatadf)\n",
    "\n",
    "# Write the DataFrame as a Delta table\n",
    "sparkdf.write.format(\"delta\").mode(\"overwrite\").save(f\"./{outputdir}/health_data_{selected_env}\")"
   ]
  },
  {
   "cell_type": "code",
   "execution_count": 38,
   "metadata": {},
   "outputs": [
    {
     "name": "stdout",
     "output_type": "stream",
     "text": [
      "+---------+---+------+------+-------------+\n",
      "|PatientID|Age|Height|Weight|BloodPressure|\n",
      "+---------+---+------+------+-------------+\n",
      "|        1| 64|   161|    95|          161|\n",
      "|        3| 73|   156|    66|          171|\n",
      "|        6| 79|   153|    71|          128|\n",
      "|        8| 59|   186|    75|          147|\n",
      "|       84| 61|   190|    71|          162|\n",
      "|       85| 77|   158|    83|          148|\n",
      "|       87| 58|   181|    84|          179|\n",
      "|       88| 75|   158|    84|          163|\n",
      "|       90| 66|   152|    83|          152|\n",
      "|       91| 38|   153|    55|          141|\n",
      "|       34| 36|   184|    74|          123|\n",
      "|       35| 71|   192|    53|          163|\n",
      "|       36| 25|   163|    68|          129|\n",
      "|       37| 35|   198|    97|          121|\n",
      "|       38| 67|   189|    53|          173|\n",
      "|       39| 20|   171|    92|          126|\n",
      "|       41| 55|   150|    88|          153|\n",
      "|       51| 21|   196|    60|          143|\n",
      "|       54| 52|   167|    78|          174|\n",
      "|       56| 30|   164|    90|          143|\n",
      "+---------+---+------+------+-------------+\n",
      "only showing top 20 rows\n",
      "\n"
     ]
    },
    {
     "name": "stderr",
     "output_type": "stream",
     "text": [
      "                                                                                \r"
     ]
    }
   ],
   "source": [
    "# Read the Delta table\n",
    "delta_table = spark.read.format(\"delta\").load(f\"./{outputdir}/health_data_{selected_env}\")\n",
    "\n",
    "filtered_data = delta_table.filter(delta_table.BloodPressure > 120)\n",
    "filtered_data.show()"
   ]
  },
  {
   "cell_type": "code",
   "execution_count": 41,
   "metadata": {},
   "outputs": [
    {
     "name": "stdout",
     "output_type": "stream",
     "text": [
      "+---------+---+------+------+-------------+\n",
      "|PatientID|Age|Height|Weight|BloodPressure|\n",
      "+---------+---+------+------+-------------+\n",
      "|        1| 64|   161|    95|          161|\n",
      "|        3| 73|   156|    66|          171|\n",
      "|        6| 79|   153|    71|          128|\n",
      "|        8| 59|   186|    75|          147|\n",
      "|       84| 61|   190|    71|          162|\n",
      "|       85| 77|   158|    83|          148|\n",
      "|       87| 58|   181|    84|          179|\n",
      "|       88| 75|   158|    84|          163|\n",
      "|       90| 66|   152|    83|          152|\n",
      "|       91| 38|   153|    55|          141|\n",
      "|       34| 36|   184|    74|          123|\n",
      "|       35| 71|   192|    53|          163|\n",
      "|       36| 25|   163|    68|          129|\n",
      "|       37| 35|   198|    97|          121|\n",
      "|       38| 67|   189|    53|          173|\n",
      "|       39| 20|   171|    92|          126|\n",
      "|       41| 55|   150|    88|          153|\n",
      "|       51| 21|   196|    60|          143|\n",
      "|       54| 52|   167|    78|          174|\n",
      "|       56| 30|   164|    90|          143|\n",
      "+---------+---+------+------+-------------+\n",
      "only showing top 20 rows\n",
      "\n"
     ]
    }
   ],
   "source": [
    "# Create a temporary view\n",
    "delta_table.createOrReplaceTempView(f\"health_data\")\n",
    "\n",
    "# Use Spark SQL to filter the data\n",
    "filtered_data_sql = spark.sql(\"SELECT * FROM health_data WHERE BloodPressure > 120\")\n",
    "filtered_data_sql.show()"
   ]
  }
 ],
 "metadata": {
  "kernelspec": {
   "display_name": ".venv",
   "language": "python",
   "name": "python3"
  },
  "language_info": {
   "codemirror_mode": {
    "name": "ipython",
    "version": 3
   },
   "file_extension": ".py",
   "mimetype": "text/x-python",
   "name": "python",
   "nbconvert_exporter": "python",
   "pygments_lexer": "ipython3",
   "version": "3.12.6"
  }
 },
 "nbformat": 4,
 "nbformat_minor": 2
}
