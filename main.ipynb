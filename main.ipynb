{
 "cells": [
  {
   "cell_type": "markdown",
   "metadata": {},
   "source": [
    "```markdown\n",
    "To run this Jupyter notebook, use Python 3.13 or later. The recommended environment is a virtual environment or a conda environment with the necessary packages installed, as specified int he requirements.txt file. Ensure that you have Jupyter Notebook installed to execute the cells interactively.\n",
    "```"
   ]
  },
  {
   "cell_type": "code",
   "execution_count": 10,
   "metadata": {},
   "outputs": [
    {
     "name": "stdout",
     "output_type": "stream",
     "text": [
      "Collecting nbformat\n",
      "  Using cached nbformat-5.10.4-py3-none-any.whl.metadata (3.6 kB)\n",
      "Collecting fastjsonschema>=2.15 (from nbformat)\n",
      "  Using cached fastjsonschema-2.21.1-py3-none-any.whl.metadata (2.2 kB)\n",
      "Collecting jsonschema>=2.6 (from nbformat)\n",
      "  Using cached jsonschema-4.23.0-py3-none-any.whl.metadata (7.9 kB)\n",
      "Requirement already satisfied: jupyter-core!=5.0.*,>=4.12 in ./.venv/lib/python3.13/site-packages (from nbformat) (5.7.2)\n",
      "Requirement already satisfied: traitlets>=5.1 in ./.venv/lib/python3.13/site-packages (from nbformat) (5.14.3)\n",
      "Collecting attrs>=22.2.0 (from jsonschema>=2.6->nbformat)\n",
      "  Using cached attrs-24.2.0-py3-none-any.whl.metadata (11 kB)\n",
      "Collecting jsonschema-specifications>=2023.03.6 (from jsonschema>=2.6->nbformat)\n",
      "  Using cached jsonschema_specifications-2024.10.1-py3-none-any.whl.metadata (3.0 kB)\n",
      "Collecting referencing>=0.28.4 (from jsonschema>=2.6->nbformat)\n",
      "  Using cached referencing-0.35.1-py3-none-any.whl.metadata (2.8 kB)\n",
      "Collecting rpds-py>=0.7.1 (from jsonschema>=2.6->nbformat)\n",
      "  Using cached rpds_py-0.22.0-cp313-cp313-macosx_11_0_arm64.whl.metadata (4.2 kB)\n",
      "Requirement already satisfied: platformdirs>=2.5 in ./.venv/lib/python3.13/site-packages (from jupyter-core!=5.0.*,>=4.12->nbformat) (4.3.6)\n",
      "Using cached nbformat-5.10.4-py3-none-any.whl (78 kB)\n",
      "Using cached fastjsonschema-2.21.1-py3-none-any.whl (23 kB)\n",
      "Using cached jsonschema-4.23.0-py3-none-any.whl (88 kB)\n",
      "Using cached attrs-24.2.0-py3-none-any.whl (63 kB)\n",
      "Using cached jsonschema_specifications-2024.10.1-py3-none-any.whl (18 kB)\n",
      "Using cached referencing-0.35.1-py3-none-any.whl (26 kB)\n",
      "Using cached rpds_py-0.22.0-cp313-cp313-macosx_11_0_arm64.whl (345 kB)\n",
      "Installing collected packages: fastjsonschema, rpds-py, attrs, referencing, jsonschema-specifications, jsonschema, nbformat\n",
      "Successfully installed attrs-24.2.0 fastjsonschema-2.21.1 jsonschema-4.23.0 jsonschema-specifications-2024.10.1 nbformat-5.10.4 referencing-0.35.1 rpds-py-0.22.0\n",
      "Note: you may need to restart the kernel to use updated packages.\n"
     ]
    }
   ],
   "source": [
    "%pip install nbformat"
   ]
  },
  {
   "cell_type": "markdown",
   "metadata": {},
   "source": [
    "### Install Required Packages"
   ]
  },
  {
   "cell_type": "code",
   "execution_count": 11,
   "metadata": {},
   "outputs": [
    {
     "name": "stdout",
     "output_type": "stream",
     "text": [
      "Note: you may need to restart the kernel to use updated packages.\n"
     ]
    },
    {
     "data": {
      "application/javascript": "IPython.notebook.kernel.restart()",
      "text/plain": [
       "<IPython.core.display.Javascript object>"
      ]
     },
     "metadata": {},
     "output_type": "display_data"
    }
   ],
   "source": [
    "%run installrequirements.ipynb"
   ]
  },
  {
   "cell_type": "markdown",
   "metadata": {},
   "source": [
    "### Import Reusable Code"
   ]
  },
  {
   "cell_type": "code",
   "execution_count": 12,
   "metadata": {},
   "outputs": [],
   "source": [
    "%run reuse.ipynb"
   ]
  },
  {
   "cell_type": "code",
   "execution_count": 13,
   "metadata": {},
   "outputs": [
    {
     "data": {
      "application/vnd.jupyter.widget-view+json": {
       "model_id": "34e9f434aa0c40638402f8372b22f835",
       "version_major": 2,
       "version_minor": 0
      },
      "text/plain": [
       "HBox(children=(Dropdown(description='Environment:', options=('dev', 'uat', 'prod'), value='dev'), Text(value='…"
      ]
     },
     "metadata": {},
     "output_type": "display_data"
    }
   ],
   "source": [
    "import ipywidgets as widgets\n",
    "from IPython.display import display\n",
    "\n",
    "# Create a dropdown widget for environment selection\n",
    "env_dropdown = widgets.Dropdown(\n",
    "    options=['dev', 'uat', 'prod'],\n",
    "    value='dev',\n",
    "    description='Environment:',\n",
    ")\n",
    "\n",
    "outputdirectory = widgets.Text(\"testdata\")\n",
    "\n",
    "# Display the widget\n",
    "display(widgets.HBox([env_dropdown, outputdirectory]))\n",
    "\n",
    "\n"
   ]
  },
  {
   "cell_type": "code",
   "execution_count": 14,
   "metadata": {},
   "outputs": [],
   "source": [
    "selected_env = env_dropdown.value\n",
    "outputdir = outputdirectory.value\n",
    "healthData = HealthData(selected_env,outputdir) # type: ignore\n",
    "healthData.generate_data()"
   ]
  },
  {
   "cell_type": "code",
   "execution_count": 15,
   "metadata": {},
   "outputs": [],
   "source": [
    "import pandas as pd\n",
    "\n",
    "healthdatadf = pd.read_parquet(f\"./{outputdir}/health_data_{selected_env}.parquet\")"
   ]
  },
  {
   "cell_type": "code",
   "execution_count": 16,
   "metadata": {},
   "outputs": [],
   "source": [
    "####!pyspark --packages io.delta:delta-core_2.11:0.4.0\n",
    "import pyspark\n",
    "from pyspark.sql import SparkSession\n",
    "from delta import *\n",
    "\n",
    "\n",
    "builder = (\n",
    "    SparkSession.builder.appName(\"DeltaTableCreation_new\")\n",
    "    .config(\"spark.sql.extensions\", \"io.delta.sql.DeltaSparkSessionExtension\")\n",
    "    .config(\"spark.sql.catalog.spark_catalog\", \"org.apache.spark.sql.delta.catalog.DeltaCatalog\")\n",
    ")\n",
    "\n",
    "spark = configure_spark_with_delta_pip(builder).getOrCreate()\n",
    "\n",
    "spark.conf.set(\"spark.sql.execution.arrow.pyspark.enabled\", \"true\")\n",
    "spark.conf.set(\"spark.sql.debug.maxToStringFields\", 1000)\n"
   ]
  },
  {
   "cell_type": "code",
   "execution_count": 17,
   "metadata": {},
   "outputs": [
    {
     "name": "stdout",
     "output_type": "stream",
     "text": [
      "    PatientID  Age  Height  Weight  BloodPressure\n",
      "0           1   64     161      95            161\n",
      "2           3   73     156      66            171\n",
      "5           6   79     153      71            128\n",
      "7           8   59     186      75            147\n",
      "14         15   26     165      56            173\n",
      "15         16   44     163      71            164\n",
      "17         18   32     198      63            149\n",
      "19         20   21     155      74            124\n",
      "20         21   58     191      65            146\n",
      "21         22   59     185      91            171\n",
      "22         23   43     150      68            165\n",
      "25         26   37     180      61            155\n",
      "29         30   28     184      51            150\n",
      "30         31   29     198      81            151\n",
      "32         33   71     153      74            172\n",
      "33         34   36     184      74            123\n",
      "34         35   71     192      53            163\n",
      "35         36   25     163      68            129\n",
      "36         37   35     198      97            121\n",
      "37         38   67     189      53            173\n",
      "38         39   20     171      92            126\n",
      "40         41   55     150      88            153\n",
      "41         42   44     160      85            169\n",
      "42         43   69     193      72            176\n",
      "43         44   71     173      55            171\n",
      "44         45   49     152      73            153\n",
      "46         47   39     185      82            161\n",
      "47         48   34     180      61            138\n",
      "49         50   52     168      70            166\n",
      "50         51   21     196      60            143\n",
      "53         54   52     167      78            174\n",
      "55         56   30     164      90            143\n",
      "56         57   72     191      52            147\n",
      "57         58   43     151      77            131\n",
      "59         60   31     160      75            136\n",
      "60         61   70     172      73            171\n",
      "61         62   75     193      96            173\n",
      "62         63   48     190      70            167\n",
      "65         66   20     166      85            152\n",
      "66         67   56     182      89            151\n",
      "67         68   73     150      59            167\n",
      "69         70   58     169      91            138\n",
      "70         71   60     196      73            161\n",
      "71         72   72     192      53            135\n",
      "72         73   37     190      96            144\n",
      "73         74   35     163      76            155\n",
      "74         75   24     180      94            172\n",
      "78         79   51     180      60            122\n",
      "80         81   21     193      95            166\n",
      "83         84   61     190      71            162\n",
      "84         85   77     158      83            148\n",
      "86         87   58     181      84            179\n",
      "87         88   75     158      84            163\n",
      "89         90   66     152      83            152\n",
      "90         91   38     153      55            141\n",
      "95         96   73     153      84            159\n",
      "96         97   32     195      55            159\n",
      "97         98   77     161      66            133\n",
      "    PatientID  Age  Height  Weight  BloodPressure\n",
      "0           1   64     161      95            161\n",
      "1           3   73     156      66            171\n",
      "2           6   79     153      71            128\n",
      "3           8   59     186      75            147\n",
      "4          15   26     165      56            173\n",
      "5          16   44     163      71            164\n",
      "6          18   32     198      63            149\n",
      "7          20   21     155      74            124\n",
      "8          21   58     191      65            146\n",
      "9          22   59     185      91            171\n",
      "10         23   43     150      68            165\n",
      "11         26   37     180      61            155\n",
      "12         30   28     184      51            150\n",
      "13         31   29     198      81            151\n",
      "14         33   71     153      74            172\n",
      "15         34   36     184      74            123\n",
      "16         35   71     192      53            163\n",
      "17         36   25     163      68            129\n",
      "18         37   35     198      97            121\n",
      "19         38   67     189      53            173\n",
      "20         39   20     171      92            126\n",
      "21         41   55     150      88            153\n",
      "22         42   44     160      85            169\n",
      "23         43   69     193      72            176\n",
      "24         44   71     173      55            171\n",
      "25         45   49     152      73            153\n",
      "26         47   39     185      82            161\n",
      "27         48   34     180      61            138\n",
      "28         50   52     168      70            166\n",
      "29         51   21     196      60            143\n",
      "30         54   52     167      78            174\n",
      "31         56   30     164      90            143\n",
      "32         57   72     191      52            147\n",
      "33         58   43     151      77            131\n",
      "34         60   31     160      75            136\n",
      "35         61   70     172      73            171\n",
      "36         62   75     193      96            173\n",
      "37         63   48     190      70            167\n",
      "38         66   20     166      85            152\n",
      "39         67   56     182      89            151\n",
      "40         68   73     150      59            167\n",
      "41         70   58     169      91            138\n",
      "42         71   60     196      73            161\n",
      "43         72   72     192      53            135\n",
      "44         73   37     190      96            144\n",
      "45         74   35     163      76            155\n",
      "46         75   24     180      94            172\n",
      "47         79   51     180      60            122\n",
      "48         81   21     193      95            166\n",
      "49         84   61     190      71            162\n",
      "50         85   77     158      83            148\n",
      "51         87   58     181      84            179\n",
      "52         88   75     158      84            163\n",
      "53         90   66     152      83            152\n",
      "54         91   38     153      55            141\n",
      "55         96   73     153      84            159\n",
      "56         97   32     195      55            159\n",
      "57         98   77     161      66            133\n"
     ]
    }
   ],
   "source": [
    "filtered_healthdatadf = healthdatadf[healthdatadf['BloodPressure'] > 120]\n",
    "print(filtered_healthdatadf)\n",
    "\n",
    "# Use Spark SQL to filter the data and convert to Pandas DataFrame\n",
    "spark.createDataFrame(healthdatadf).createOrReplaceTempView(\"sparkhealthdatadf\")\n",
    "filtered_healthdatadf_sql = spark.sql(\"SELECT * FROM sparkhealthdatadf WHERE BloodPressure > 120\").toPandas()\n",
    "print(filtered_healthdatadf_sql)"
   ]
  },
  {
   "cell_type": "code",
   "execution_count": 18,
   "metadata": {},
   "outputs": [
    {
     "name": "stderr",
     "output_type": "stream",
     "text": [
      "24/12/02 15:03:02 WARN MemoryManager: Total allocation exceeds 95.00% (1,020,054,720 bytes) of heap memory\n",
      "Scaling row group sizes to 95.00% for 8 writers\n",
      "24/12/02 15:03:02 WARN MemoryManager: Total allocation exceeds 95.00% (1,020,054,720 bytes) of heap memory\n",
      "Scaling row group sizes to 84.44% for 9 writers\n",
      "24/12/02 15:03:02 WARN MemoryManager: Total allocation exceeds 95.00% (1,020,054,720 bytes) of heap memory\n",
      "Scaling row group sizes to 76.00% for 10 writers\n",
      "24/12/02 15:03:02 WARN MemoryManager: Total allocation exceeds 95.00% (1,020,054,720 bytes) of heap memory\n",
      "Scaling row group sizes to 69.09% for 11 writers\n",
      "24/12/02 15:03:02 WARN MemoryManager: Total allocation exceeds 95.00% (1,020,054,720 bytes) of heap memory\n",
      "Scaling row group sizes to 63.33% for 12 writers\n",
      "24/12/02 15:03:02 WARN MemoryManager: Total allocation exceeds 95.00% (1,020,054,720 bytes) of heap memory\n",
      "Scaling row group sizes to 69.09% for 11 writers\n",
      "24/12/02 15:03:02 WARN MemoryManager: Total allocation exceeds 95.00% (1,020,054,720 bytes) of heap memory\n",
      "Scaling row group sizes to 76.00% for 10 writers\n",
      "24/12/02 15:03:02 WARN MemoryManager: Total allocation exceeds 95.00% (1,020,054,720 bytes) of heap memory\n",
      "Scaling row group sizes to 84.44% for 9 writers\n",
      "24/12/02 15:03:02 WARN MemoryManager: Total allocation exceeds 95.00% (1,020,054,720 bytes) of heap memory\n",
      "Scaling row group sizes to 95.00% for 8 writers\n",
      "                                                                                \r"
     ]
    }
   ],
   "source": [
    "# Create a Spark DataFrame from the healthdatadf DataFrame\n",
    "sparkdf = spark.createDataFrame(healthdatadf)\n",
    "\n",
    "# Write the DataFrame as a Delta table\n",
    "sparkdf.write.format(\"delta\").mode(\"overwrite\").save(f\"./{outputdir}/health_data_{selected_env}\")"
   ]
  },
  {
   "cell_type": "code",
   "execution_count": 19,
   "metadata": {},
   "outputs": [
    {
     "name": "stdout",
     "output_type": "stream",
     "text": [
      "+---------+---+------+------+-------------+\n",
      "|PatientID|Age|Height|Weight|BloodPressure|\n",
      "+---------+---+------+------+-------------+\n",
      "|        1| 64|   161|    95|          161|\n",
      "|        3| 73|   156|    66|          171|\n",
      "|        6| 79|   153|    71|          128|\n",
      "|        8| 59|   186|    75|          147|\n",
      "|       84| 61|   190|    71|          162|\n",
      "|       85| 77|   158|    83|          148|\n",
      "|       87| 58|   181|    84|          179|\n",
      "|       88| 75|   158|    84|          163|\n",
      "|       90| 66|   152|    83|          152|\n",
      "|       91| 38|   153|    55|          141|\n",
      "|       51| 21|   196|    60|          143|\n",
      "|       54| 52|   167|    78|          174|\n",
      "|       56| 30|   164|    90|          143|\n",
      "|       57| 72|   191|    52|          147|\n",
      "|       58| 43|   151|    77|          131|\n",
      "|       15| 26|   165|    56|          173|\n",
      "|       16| 44|   163|    71|          164|\n",
      "|       34| 36|   184|    74|          123|\n",
      "|       35| 71|   192|    53|          163|\n",
      "|       36| 25|   163|    68|          129|\n",
      "+---------+---+------+------+-------------+\n",
      "only showing top 20 rows\n",
      "\n"
     ]
    }
   ],
   "source": [
    "# Read the Delta table\n",
    "delta_table = spark.read.format(\"delta\").load(f\"./{outputdir}/health_data_{selected_env}\")\n",
    "\n",
    "filtered_data = delta_table.filter(delta_table.BloodPressure > 120)\n",
    "filtered_data.show()"
   ]
  },
  {
   "cell_type": "code",
   "execution_count": 20,
   "metadata": {},
   "outputs": [
    {
     "name": "stdout",
     "output_type": "stream",
     "text": [
      "+---------+---+------+------+-------------+\n",
      "|PatientID|Age|Height|Weight|BloodPressure|\n",
      "+---------+---+------+------+-------------+\n",
      "|        1| 64|   161|    95|          161|\n",
      "|        3| 73|   156|    66|          171|\n",
      "|        6| 79|   153|    71|          128|\n",
      "|        8| 59|   186|    75|          147|\n",
      "|       84| 61|   190|    71|          162|\n",
      "|       85| 77|   158|    83|          148|\n",
      "|       87| 58|   181|    84|          179|\n",
      "|       88| 75|   158|    84|          163|\n",
      "|       90| 66|   152|    83|          152|\n",
      "|       91| 38|   153|    55|          141|\n",
      "|       51| 21|   196|    60|          143|\n",
      "|       54| 52|   167|    78|          174|\n",
      "|       56| 30|   164|    90|          143|\n",
      "|       57| 72|   191|    52|          147|\n",
      "|       58| 43|   151|    77|          131|\n",
      "|       15| 26|   165|    56|          173|\n",
      "|       16| 44|   163|    71|          164|\n",
      "|       34| 36|   184|    74|          123|\n",
      "|       35| 71|   192|    53|          163|\n",
      "|       36| 25|   163|    68|          129|\n",
      "+---------+---+------+------+-------------+\n",
      "only showing top 20 rows\n",
      "\n"
     ]
    }
   ],
   "source": [
    "# Create a temporary view\n",
    "delta_table.createOrReplaceTempView(f\"health_data\")\n",
    "\n",
    "# Use Spark SQL to filter the data\n",
    "filtered_data_sql = spark.sql(\"SELECT * FROM health_data WHERE BloodPressure > 120\")\n",
    "filtered_data_sql.show()"
   ]
  },
  {
   "cell_type": "code",
   "execution_count": 21,
   "metadata": {},
   "outputs": [
    {
     "name": "stdout",
     "output_type": "stream",
     "text": [
      "+---------+---+------+------+-------------+\n",
      "|PatientID|Age|Height|Weight|BloodPressure|\n",
      "+---------+---+------+------+-------------+\n",
      "|        1| 64|   161|    95|          161|\n",
      "|        3| 73|   156|    66|          171|\n",
      "|        6| 79|   153|    71|          128|\n",
      "|        8| 59|   186|    75|          147|\n",
      "|        1| 64|   161|    95|          161|\n",
      "|        3| 73|   156|    66|          171|\n",
      "|        6| 79|   153|    71|          128|\n",
      "|        8| 59|   186|    75|          147|\n",
      "|        1| 64|   161|    95|          161|\n",
      "|        3| 73|   156|    66|          171|\n",
      "|        6| 79|   153|    71|          128|\n",
      "|        8| 59|   186|    75|          147|\n",
      "|       84| 61|   190|    71|          162|\n",
      "|       85| 77|   158|    83|          148|\n",
      "|       87| 58|   181|    84|          179|\n",
      "|       88| 75|   158|    84|          163|\n",
      "|       90| 66|   152|    83|          152|\n",
      "|       91| 38|   153|    55|          141|\n",
      "|       84| 61|   190|    71|          162|\n",
      "|       85| 77|   158|    83|          148|\n",
      "+---------+---+------+------+-------------+\n",
      "only showing top 20 rows\n",
      "\n"
     ]
    }
   ],
   "source": [
    "# Execute the SQL query and display the results\n",
    "result = spark.sql(\"SELECT * FROM `parquet`.`./testdata/health_data_dev` WHERE BloodPressure > 120\")\n",
    "result.show()"
   ]
  },
  {
   "cell_type": "code",
   "execution_count": 22,
   "metadata": {},
   "outputs": [
    {
     "data": {
      "application/vnd.jupyter.widget-view+json": {
       "model_id": "7868af41eed44a01a9750ff2bdf5a354",
       "version_major": 2,
       "version_minor": 0
      },
      "text/plain": [
       "Dropdown(description='Files:', options=('health_data_prod.parquet', 'health_data_uat.parquet', 'health_data_de…"
      ]
     },
     "metadata": {},
     "output_type": "display_data"
    }
   ],
   "source": [
    "import os\n",
    "\n",
    "# List all files in the subfolders of the testdata directory\n",
    "file_list = [os.path.join(root, file) for root, dirs, files in os.walk(outputdir) for file in files if file.endswith('.csv') or file.endswith('.parquet')]\n",
    "\n",
    "# Create a dropdown widget for file selection\n",
    "file_dropdown = widgets.Dropdown(\n",
    "    options=[file.replace('testdata/', '') for file in file_list],\n",
    "    description='Files:',\n",
    ")\n",
    "\n",
    "# Display the widget\n",
    "display(file_dropdown)\n"
   ]
  },
  {
   "cell_type": "code",
   "execution_count": 28,
   "metadata": {},
   "outputs": [
    {
     "name": "stdout",
     "output_type": "stream",
     "text": [
      "+---------+---+------+------+-------------+\n",
      "|PatientID|Age|Height|Weight|BloodPressure|\n",
      "+---------+---+------+------+-------------+\n",
      "|       17| 44|   171|    81|           82|\n",
      "|       18| 32|   198|    63|          149|\n",
      "|       19| 78|   199|    57|           92|\n",
      "|       20| 21|   155|    74|          124|\n",
      "|       21| 58|   191|    65|          146|\n",
      "|       22| 59|   185|    91|          171|\n",
      "|       23| 43|   150|    68|          165|\n",
      "|       24| 66|   181|    90|          119|\n",
      "|       25| 44|   155|    65|          119|\n",
      "+---------+---+------+------+-------------+\n",
      "\n"
     ]
    }
   ],
   "source": [
    "file_extension= file_dropdown.value.split('.')[-1]\n",
    "\n",
    "spark.sql(f\"SELECT * FROM `{file_extension}`.`./{outputdir}/{file_dropdown.value}`\").show()\n"
   ]
  },
  {
   "cell_type": "code",
   "execution_count": 29,
   "metadata": {},
   "outputs": [
    {
     "name": "stdout",
     "output_type": "stream",
     "text": [
      "root\n",
      " |-- PatientID: long (nullable = true)\n",
      " |-- Age: long (nullable = true)\n",
      " |-- Height: long (nullable = true)\n",
      " |-- Weight: long (nullable = true)\n",
      " |-- BloodPressure: long (nullable = true)\n",
      "\n"
     ]
    }
   ],
   "source": [
    "# List columns and data types\n",
    "sparkdf.printSchema()"
   ]
  },
  {
   "cell_type": "code",
   "execution_count": 32,
   "metadata": {},
   "outputs": [
    {
     "name": "stdout",
     "output_type": "stream",
     "text": [
      "+-------+------------------+------------------+-----------------+-----------------+------------------+\n",
      "|summary|         PatientID|               Age|           Height|           Weight|     BloodPressure|\n",
      "+-------+------------------+------------------+-----------------+-----------------+------------------+\n",
      "|  count|               100|               100|              100|              100|               100|\n",
      "|   mean|              50.5|             48.62|           173.29|            74.91|            131.52|\n",
      "| stddev|29.011491975882016|18.117896727219243|15.59804118756227|14.04544931515708|29.495241869313315|\n",
      "|    min|                 1|                20|              150|               50|                80|\n",
      "|    max|               100|                79|              199|               97|               179|\n",
      "+-------+------------------+------------------+-----------------+-----------------+------------------+\n",
      "\n"
     ]
    },
    {
     "data": {
      "text/plain": [
       "None"
      ]
     },
     "metadata": {},
     "output_type": "display_data"
    }
   ],
   "source": [
    "# Describe the data\n",
    "display(sparkdf.describe().show())"
   ]
  },
  {
   "cell_type": "code",
   "execution_count": 33,
   "metadata": {},
   "outputs": [],
   "source": [
    "\n",
    "if '/' in file_dropdown.value:\n",
    "\tdatabase_name = file_dropdown.value.split('/')[0].replace('-', '') if file_dropdown.value.split('/')[0] else 'TestDB'\n",
    "\ttable_name = file_dropdown.value.split('/')[1].split('.')[0].replace('_', '')\n",
    "else:\n",
    "\tdatabase_name = 'TestDB'\n",
    "\ttable_name = file_dropdown.value.split('.')[0].replace('_', '')\n",
    "\n",
    "\n"
   ]
  },
  {
   "cell_type": "code",
   "execution_count": 38,
   "metadata": {
    "vscode": {
     "languageId": "ruby"
    }
   },
   "outputs": [],
   "source": [
    "sparkdf = spark.read.format(f\"{file_extension}\").option(\"header\", \"true\").load(f\"./{outputdir}/{file_dropdown.value}\")\n",
    "\n",
    "# Rename columns to remove invalid characters\n",
    "for col in sparkdf.columns:\n",
    "\tnew_col = col.replace(' ', '_').replace('(', '').replace(')', '').replace('\\n', '').replace('\\t', '').replace('=', '')\n",
    "\tsparkdf = sparkdf.withColumnRenamed(col, new_col)\n",
    "\n",
    "# Create a database\n",
    "spark.sql(f\"CREATE DATABASE IF NOT EXISTS {database_name}\")\n",
    "\n",
    "# Use the created database\n",
    "spark.sql(f\"USE {database_name}\")\n",
    "\n",
    "table_name = table_name.replace(' ', '_').replace('(', '').replace(')', '').replace('\\n', '').replace('\\t', '').replace('=', '').replace('-', '')\n",
    "\n",
    "# Write the DataFrame as a Delta table in the created database\n",
    "sparkdf.write.format(\"delta\").mode(\"overwrite\").saveAsTable(f\"{table_name}\")\n",
    "\n",
    "# Verify that the table has been created and data has been loaded\n"
   ]
  },
  {
   "cell_type": "code",
   "execution_count": 39,
   "metadata": {},
   "outputs": [
    {
     "name": "stdout",
     "output_type": "stream",
     "text": [
      "+---------------+--------------------+-----------+\n",
      "|      namespace|           tableName|isTemporary|\n",
      "+---------------+--------------------+-----------+\n",
      "|health_data_dev|part00002f16d5588...|      false|\n",
      "|               |         health_data|      false|\n",
      "|               |   sparkhealthdatadf|      false|\n",
      "+---------------+--------------------+-----------+\n",
      "\n"
     ]
    }
   ],
   "source": [
    "spark.sql(\"SHOW TABLES\").show()\n",
    "\n"
   ]
  },
  {
   "cell_type": "code",
   "execution_count": 43,
   "metadata": {},
   "outputs": [
    {
     "name": "stdout",
     "output_type": "stream",
     "text": [
      "+--------+\n",
      "|count(1)|\n",
      "+--------+\n",
      "|       9|\n",
      "+--------+\n",
      "\n"
     ]
    },
    {
     "data": {
      "image/png": "[encoded data removed]",
      "text/plain": [
       "<Figure size 600x400 with 1 Axes>"
      ]
     },
     "metadata": {},
     "output_type": "display_data"
    }
   ],
   "source": [
    "spark.sql(f\"SELECT COUNT(*) FROM {table_name}\").show()\n",
    "import matplotlib.pyplot as plt\n",
    "\n",
    "# Get the count of rows in the table\n",
    "count = spark.sql(f\"SELECT COUNT(*) as count FROM {table_name}\").collect()[0]['count']\n",
    "\n",
    "# Plot the count\n",
    "plt.figure(figsize=(6, 4))\n",
    "plt.bar([table_name], [count], color='blue')\n",
    "plt.xlabel('Table Name')\n",
    "plt.ylabel('Row Count')\n",
    "plt.title('Row Count in Table')\n",
    "plt.show()\n"
   ]
  },
  {
   "cell_type": "code",
   "execution_count": 44,
   "metadata": {},
   "outputs": [
    {
     "data": {
      "image/png": "[encoded data removed]",
      "text/plain": [
       "<Figure size 1000x600 with 1 Axes>"
      ]
     },
     "metadata": {},
     "output_type": "display_data"
    },
    {
     "data": {
      "image/png": "[encoded data removed]",
      "text/plain": [
       "<Figure size 1000x600 with 1 Axes>"
      ]
     },
     "metadata": {},
     "output_type": "display_data"
    }
   ],
   "source": [
    "import matplotlib.pyplot as plt\n",
    "\n",
    "# Convert Spark DataFrame to Pandas DataFrame for plotting\n",
    "pandas_df = sparkdf.toPandas()\n",
    "\n",
    "# Plot the distribution of BloodPressure\n",
    "plt.figure(figsize=(10, 6))\n",
    "plt.hist(pandas_df['BloodPressure'], bins=30, edgecolor='k', alpha=0.7)\n",
    "plt.title('Distribution of Blood Pressure')\n",
    "plt.xlabel('Blood Pressure')\n",
    "plt.ylabel('Frequency')\n",
    "plt.grid(True)\n",
    "plt.show()\n",
    "\n",
    "# Plot Age vs BloodPressure\n",
    "plt.figure(figsize=(10, 6))\n",
    "plt.scatter(pandas_df['Age'], pandas_df['BloodPressure'], alpha=0.7)\n",
    "plt.title('Age vs Blood Pressure')\n",
    "plt.xlabel('Age')\n",
    "plt.ylabel('Blood Pressure')\n",
    "plt.grid(True)\n",
    "plt.show()"
   ]
  }
 ],
 "metadata": {
  "kernelspec": {
   "display_name": "Python 3",
   "language": "python",
   "name": "python3"
  },
  "language_info": {
   "codemirror_mode": {
    "name": "ipython",
    "version": 3
   },
   "file_extension": ".py",
   "mimetype": "text/x-python",
   "name": "python",
   "nbconvert_exporter": "python",
   "pygments_lexer": "ipython3",
   "version": "3.13.0"
  }
 },
 "nbformat": 4,
 "nbformat_minor": 2
}
